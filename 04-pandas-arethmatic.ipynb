{
 "cells": [
  {
   "cell_type": "code",
   "execution_count": 1,
   "id": "d769b47e",
   "metadata": {
    "_cell_guid": "b1076dfc-b9ad-4769-8c92-a6c4dae69d19",
    "_uuid": "8f2839f25d086af736a60e9eeb907d3b93b6e0e5",
    "execution": {
     "iopub.execute_input": "2023-09-07T17:14:00.552000Z",
     "iopub.status.busy": "2023-09-07T17:14:00.551244Z",
     "iopub.status.idle": "2023-09-07T17:14:00.898561Z",
     "shell.execute_reply": "2023-09-07T17:14:00.897464Z"
    },
    "papermill": {
     "duration": 0.355715,
     "end_time": "2023-09-07T17:14:00.901375",
     "exception": false,
     "start_time": "2023-09-07T17:14:00.545660",
     "status": "completed"
    },
    "tags": []
   },
   "outputs": [],
   "source": [
    "import pandas as pd"
   ]
  },
  {
   "cell_type": "markdown",
   "id": "74eb9745",
   "metadata": {
    "papermill": {
     "duration": 0.002593,
     "end_time": "2023-09-07T17:14:00.908927",
     "exception": false,
     "start_time": "2023-09-07T17:14:00.906334",
     "status": "completed"
    },
    "tags": []
   },
   "source": [
    "# Arethmatic operation"
   ]
  },
  {
   "cell_type": "code",
   "execution_count": 2,
   "id": "1fa9dd7a",
   "metadata": {
    "execution": {
     "iopub.execute_input": "2023-09-07T17:14:00.915962Z",
     "iopub.status.busy": "2023-09-07T17:14:00.915449Z",
     "iopub.status.idle": "2023-09-07T17:14:00.930854Z",
     "shell.execute_reply": "2023-09-07T17:14:00.929604Z"
    },
    "papermill": {
     "duration": 0.022349,
     "end_time": "2023-09-07T17:14:00.933965",
     "exception": false,
     "start_time": "2023-09-07T17:14:00.911616",
     "status": "completed"
    },
    "tags": []
   },
   "outputs": [
    {
     "name": "stdout",
     "output_type": "stream",
     "text": [
      "   a  s\n",
      "0  1  4\n",
      "1  2  3\n",
      "2  3  2\n",
      "3  4  1\n"
     ]
    }
   ],
   "source": [
    "a=pd.DataFrame({\"a\":[1,2,3,4],\"s\":[4,3,2,1]})\n",
    "print(a)"
   ]
  },
  {
   "cell_type": "code",
   "execution_count": null,
   "id": "43d5058c",
   "metadata": {
    "papermill": {
     "duration": 0.002739,
     "end_time": "2023-09-07T17:14:00.939932",
     "exception": false,
     "start_time": "2023-09-07T17:14:00.937193",
     "status": "completed"
    },
    "tags": []
   },
   "outputs": [],
   "source": []
  }
 ],
 "kernelspec": {
  "display_name": "Python 3",
  "language": "python",
  "name": "python3"
 },
 "language_info": {
  "codemirror_mode": {
   "name": "ipython",
   "version": 3
  },
  "file_extension": ".py",
  "mimetype": "text/x-python",
  "name": "python",
  "nbconvert_exporter": "python",
  "pygments_lexer": "ipython3",
  "version": "3.6.4"
 },
 "metadata": {
  "kernelspec": {
   "display_name": "Python 3",
   "language": "python",
   "name": "python3"
  },
  "language_info": {
   "codemirror_mode": {
    "name": "ipython",
    "version": 3
   },
   "file_extension": ".py",
   "mimetype": "text/x-python",
   "name": "python",
   "nbconvert_exporter": "python",
   "pygments_lexer": "ipython3",
   "version": "3.11.4"
  },
  "papermill": {
   "default_parameters": {},
   "duration": 3.883593,
   "end_time": "2023-09-07T17:14:01.361564",
   "environment_variables": {},
   "exception": null,
   "input_path": "__notebook__.ipynb",
   "output_path": "__notebook__.ipynb",
   "parameters": {},
   "start_time": "2023-09-07T17:13:57.477971",
   "version": "2.4.0"
  }
 },
 "nbformat": 4,
 "nbformat_minor": 5
}
