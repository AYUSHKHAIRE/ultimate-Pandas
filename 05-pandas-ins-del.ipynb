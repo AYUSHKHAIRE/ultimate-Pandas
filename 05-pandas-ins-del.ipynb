{
 "cells": [
  {
   "cell_type": "code",
   "execution_count": 1,
   "id": "2d809b5a",
   "metadata": {
    "_cell_guid": "b1076dfc-b9ad-4769-8c92-a6c4dae69d19",
    "_uuid": "8f2839f25d086af736a60e9eeb907d3b93b6e0e5",
    "execution": {
     "iopub.execute_input": "2023-09-07T17:12:44.111834Z",
     "iopub.status.busy": "2023-09-07T17:12:44.110855Z",
     "iopub.status.idle": "2023-09-07T17:12:44.552626Z",
     "shell.execute_reply": "2023-09-07T17:12:44.550988Z"
    },
    "papermill": {
     "duration": 0.453748,
     "end_time": "2023-09-07T17:12:44.556239",
     "exception": false,
     "start_time": "2023-09-07T17:12:44.102491",
     "status": "completed"
    },
    "tags": []
   },
   "outputs": [],
   "source": [
    "import pandas as pd"
   ]
  },
  {
   "cell_type": "markdown",
   "id": "d3f73c31",
   "metadata": {
    "papermill": {
     "duration": 0.005038,
     "end_time": "2023-09-07T17:12:44.567287",
     "exception": false,
     "start_time": "2023-09-07T17:12:44.562249",
     "status": "completed"
    },
    "tags": []
   },
   "source": [
    "# insert"
   ]
  },
  {
   "cell_type": "code",
   "execution_count": 2,
   "id": "4b32924e",
   "metadata": {
    "execution": {
     "iopub.execute_input": "2023-09-07T17:12:44.579842Z",
     "iopub.status.busy": "2023-09-07T17:12:44.579262Z",
     "iopub.status.idle": "2023-09-07T17:12:44.598175Z",
     "shell.execute_reply": "2023-09-07T17:12:44.596919Z"
    },
    "papermill": {
     "duration": 0.029077,
     "end_time": "2023-09-07T17:12:44.601588",
     "exception": false,
     "start_time": "2023-09-07T17:12:44.572511",
     "status": "completed"
    },
    "tags": []
   },
   "outputs": [
    {
     "name": "stdout",
     "output_type": "stream",
     "text": [
      "   A  B\n",
      "0  1  5\n",
      "1  2  4\n",
      "2  3  3\n",
      "3  4  2\n",
      "4  5  1\n"
     ]
    }
   ],
   "source": [
    "a=pd.DataFrame({\"A\":[1,2,3,4,5],\"B\":[5,4,3,2,1]})\n",
    "print(a)"
   ]
  },
  {
   "cell_type": "code",
   "execution_count": 3,
   "id": "935a061e",
   "metadata": {
    "execution": {
     "iopub.execute_input": "2023-09-07T17:12:44.617624Z",
     "iopub.status.busy": "2023-09-07T17:12:44.616193Z",
     "iopub.status.idle": "2023-09-07T17:12:44.629570Z",
     "shell.execute_reply": "2023-09-07T17:12:44.627984Z"
    },
    "papermill": {
     "duration": 0.024349,
     "end_time": "2023-09-07T17:12:44.632653",
     "exception": false,
     "start_time": "2023-09-07T17:12:44.608304",
     "status": "completed"
    },
    "tags": []
   },
   "outputs": [
    {
     "name": "stdout",
     "output_type": "stream",
     "text": [
      "   A  New  B\n",
      "0  1    1  5\n",
      "1  2    1  4\n",
      "2  3    1  3\n",
      "3  4    1  2\n",
      "4  5    1  1\n"
     ]
    }
   ],
   "source": [
    "a.insert(1,\"New\",[1,1,1,1,1])\n",
    "print(a)"
   ]
  },
  {
   "cell_type": "code",
   "execution_count": 4,
   "id": "ef38c33d",
   "metadata": {
    "execution": {
     "iopub.execute_input": "2023-09-07T17:12:44.646984Z",
     "iopub.status.busy": "2023-09-07T17:12:44.645766Z",
     "iopub.status.idle": "2023-09-07T17:12:44.654460Z",
     "shell.execute_reply": "2023-09-07T17:12:44.653482Z"
    },
    "papermill": {
     "duration": 0.018774,
     "end_time": "2023-09-07T17:12:44.657119",
     "exception": false,
     "start_time": "2023-09-07T17:12:44.638345",
     "status": "completed"
    },
    "tags": []
   },
   "outputs": [
    {
     "name": "stdout",
     "output_type": "stream",
     "text": [
      "   A  New2  New  B\n",
      "0  1     1    1  5\n",
      "1  2     2    1  4\n",
      "2  3     3    1  3\n",
      "3  4     4    1  2\n",
      "4  5     5    1  1\n"
     ]
    }
   ],
   "source": [
    "a.insert(1,\"New2\",a[\"A\"])\n",
    "print(a)"
   ]
  },
  {
   "cell_type": "code",
   "execution_count": 5,
   "id": "37355163",
   "metadata": {
    "execution": {
     "iopub.execute_input": "2023-09-07T17:12:44.673980Z",
     "iopub.status.busy": "2023-09-07T17:12:44.672637Z",
     "iopub.status.idle": "2023-09-07T17:12:44.688182Z",
     "shell.execute_reply": "2023-09-07T17:12:44.686479Z"
    },
    "papermill": {
     "duration": 0.028491,
     "end_time": "2023-09-07T17:12:44.691629",
     "exception": false,
     "start_time": "2023-09-07T17:12:44.663138",
     "status": "completed"
    },
    "tags": []
   },
   "outputs": [
    {
     "name": "stdout",
     "output_type": "stream",
     "text": [
      "   A  New2  New  B  new3\n",
      "0  1     1    1  5   1.0\n",
      "1  2     2    1  4   2.0\n",
      "2  3     3    1  3   3.0\n",
      "3  4     4    1  2   NaN\n",
      "4  5     5    1  1   NaN\n"
     ]
    }
   ],
   "source": [
    "a[\"new3\"]=a[\"A\"][:3]\n",
    "print(a)"
   ]
  },
  {
   "cell_type": "markdown",
   "id": "c5e56d24",
   "metadata": {
    "papermill": {
     "duration": 0.005544,
     "end_time": "2023-09-07T17:12:44.703167",
     "exception": false,
     "start_time": "2023-09-07T17:12:44.697623",
     "status": "completed"
    },
    "tags": []
   },
   "source": [
    "# Delete"
   ]
  },
  {
   "cell_type": "code",
   "execution_count": 6,
   "id": "b55e7fe7",
   "metadata": {
    "execution": {
     "iopub.execute_input": "2023-09-07T17:12:44.717007Z",
     "iopub.status.busy": "2023-09-07T17:12:44.716582Z",
     "iopub.status.idle": "2023-09-07T17:12:44.727299Z",
     "shell.execute_reply": "2023-09-07T17:12:44.726000Z"
    },
    "papermill": {
     "duration": 0.020914,
     "end_time": "2023-09-07T17:12:44.730234",
     "exception": false,
     "start_time": "2023-09-07T17:12:44.709320",
     "status": "completed"
    },
    "tags": []
   },
   "outputs": [
    {
     "name": "stdout",
     "output_type": "stream",
     "text": [
      "   A  New2  New  new3\n",
      "0  1     1    1   1.0\n",
      "1  2     2    1   2.0\n",
      "2  3     3    1   3.0\n",
      "3  4     4    1   NaN\n",
      "4  5     5    1   NaN\n"
     ]
    }
   ],
   "source": [
    "a.pop(\"B\")\n",
    "print(a)"
   ]
  }
 ],
 "kernelspec": {
  "display_name": "Python 3",
  "language": "python",
  "name": "python3"
 },
 "language_info": {
  "codemirror_mode": {
   "name": "ipython",
   "version": 3
  },
  "file_extension": ".py",
  "mimetype": "text/x-python",
  "name": "python",
  "nbconvert_exporter": "python",
  "pygments_lexer": "ipython3",
  "version": "3.6.4"
 },
 "metadata": {
  "kernelspec": {
   "display_name": "Python 3",
   "language": "python",
   "name": "python3"
  },
  "language_info": {
   "codemirror_mode": {
    "name": "ipython",
    "version": 3
   },
   "file_extension": ".py",
   "mimetype": "text/x-python",
   "name": "python",
   "nbconvert_exporter": "python",
   "pygments_lexer": "ipython3",
   "version": "3.11.4"
  },
  "papermill": {
   "default_parameters": {},
   "duration": 5.178398,
   "end_time": "2023-09-07T17:12:45.358233",
   "environment_variables": {},
   "exception": null,
   "input_path": "__notebook__.ipynb",
   "output_path": "__notebook__.ipynb",
   "parameters": {},
   "start_time": "2023-09-07T17:12:40.179835",
   "version": "2.4.0"
  }
 },
 "nbformat": 4,
 "nbformat_minor": 5
}
