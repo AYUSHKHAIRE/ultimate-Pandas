{
 "cells": [
  {
   "cell_type": "code",
   "execution_count": 1,
   "id": "fda3fcdb",
   "metadata": {
    "_cell_guid": "b1076dfc-b9ad-4769-8c92-a6c4dae69d19",
    "_uuid": "8f2839f25d086af736a60e9eeb907d3b93b6e0e5",
    "execution": {
     "iopub.execute_input": "2023-09-07T16:43:23.993953Z",
     "iopub.status.busy": "2023-09-07T16:43:23.993296Z",
     "iopub.status.idle": "2023-09-07T16:43:24.409781Z",
     "shell.execute_reply": "2023-09-07T16:43:24.408508Z"
    },
    "papermill": {
     "duration": 0.427779,
     "end_time": "2023-09-07T16:43:24.412784",
     "exception": false,
     "start_time": "2023-09-07T16:43:23.985005",
     "status": "completed"
    },
    "tags": []
   },
   "outputs": [],
   "source": [
    "import pandas as pd"
   ]
  },
  {
   "cell_type": "markdown",
   "id": "2a3daa37",
   "metadata": {
    "papermill": {
     "duration": 0.005677,
     "end_time": "2023-09-07T16:43:24.424872",
     "exception": false,
     "start_time": "2023-09-07T16:43:24.419195",
     "status": "completed"
    },
    "tags": []
   },
   "source": [
    "# DataFrame"
   ]
  },
  {
   "cell_type": "code",
   "execution_count": 2,
   "id": "ff44da4c",
   "metadata": {
    "execution": {
     "iopub.execute_input": "2023-09-07T16:43:24.438462Z",
     "iopub.status.busy": "2023-09-07T16:43:24.437927Z",
     "iopub.status.idle": "2023-09-07T16:43:24.451878Z",
     "shell.execute_reply": "2023-09-07T16:43:24.450584Z"
    },
    "papermill": {
     "duration": 0.023461,
     "end_time": "2023-09-07T16:43:24.454300",
     "exception": false,
     "start_time": "2023-09-07T16:43:24.430839",
     "status": "completed"
    },
    "tags": []
   },
   "outputs": [
    {
     "name": "stdout",
     "output_type": "stream",
     "text": [
      "[1, 2, 3, 4, 5]\n",
      "<class 'list'>\n",
      "   0\n",
      "0  1\n",
      "1  2\n",
      "2  3\n",
      "3  4\n",
      "4  5\n",
      "<class 'pandas.core.frame.DataFrame'>\n"
     ]
    }
   ],
   "source": [
    "# lists\n",
    "l=[1,2,3,4,5]\n",
    "a=pd.DataFrame(l)\n",
    "print(l)\n",
    "print(type(l))\n",
    "print(a)\n",
    "print(type(a))"
   ]
  },
  {
   "cell_type": "code",
   "execution_count": 3,
   "id": "2cd5a58e",
   "metadata": {
    "execution": {
     "iopub.execute_input": "2023-09-07T16:43:24.469153Z",
     "iopub.status.busy": "2023-09-07T16:43:24.468711Z",
     "iopub.status.idle": "2023-09-07T16:43:24.485668Z",
     "shell.execute_reply": "2023-09-07T16:43:24.484034Z"
    },
    "papermill": {
     "duration": 0.028977,
     "end_time": "2023-09-07T16:43:24.489562",
     "exception": false,
     "start_time": "2023-09-07T16:43:24.460585",
     "status": "completed"
    },
    "tags": []
   },
   "outputs": [
    {
     "name": "stdout",
     "output_type": "stream",
     "text": [
      "{'a': [1, 2, 3, 4, 5], 's': [1, 4, 9, 16, 25]}\n",
      "   a   s\n",
      "0  1   1\n",
      "1  2   4\n",
      "2  3   9\n",
      "3  4  16\n",
      "4  5  25\n"
     ]
    }
   ],
   "source": [
    "# dictionary\n",
    "d={\"a\":[1,2,3,4,5],\"s\":[1,4,9,16,25]}\n",
    "b=pd.DataFrame(d)\n",
    "print(d)\n",
    "print(b)"
   ]
  },
  {
   "cell_type": "code",
   "execution_count": 4,
   "id": "d0e470eb",
   "metadata": {
    "execution": {
     "iopub.execute_input": "2023-09-07T16:43:24.505935Z",
     "iopub.status.busy": "2023-09-07T16:43:24.505556Z",
     "iopub.status.idle": "2023-09-07T16:43:24.525203Z",
     "shell.execute_reply": "2023-09-07T16:43:24.523912Z"
    },
    "papermill": {
     "duration": 0.030383,
     "end_time": "2023-09-07T16:43:24.527600",
     "exception": false,
     "start_time": "2023-09-07T16:43:24.497217",
     "status": "completed"
    },
    "tags": []
   },
   "outputs": [
    {
     "name": "stdout",
     "output_type": "stream",
     "text": [
      "{'a': [1, 2, 3, 4, 5], 's': [1, 4, 9, 16, 25]}\n",
      "   a\n",
      "0  1\n",
      "1  2\n",
      "2  3\n",
      "3  4\n",
      "4  5\n"
     ]
    }
   ],
   "source": [
    "# dictionary column specific\n",
    "d={\"a\":[1,2,3,4,5],\"s\":[1,4,9,16,25]}\n",
    "b=pd.DataFrame(d,columns=[\"a\"])\n",
    "print(d)\n",
    "print(b)"
   ]
  },
  {
   "cell_type": "code",
   "execution_count": 5,
   "id": "cac9d3a9",
   "metadata": {
    "execution": {
     "iopub.execute_input": "2023-09-07T16:43:24.541996Z",
     "iopub.status.busy": "2023-09-07T16:43:24.541634Z",
     "iopub.status.idle": "2023-09-07T16:43:24.550947Z",
     "shell.execute_reply": "2023-09-07T16:43:24.549560Z"
    },
    "papermill": {
     "duration": 0.019502,
     "end_time": "2023-09-07T16:43:24.553350",
     "exception": false,
     "start_time": "2023-09-07T16:43:24.533848",
     "status": "completed"
    },
    "tags": []
   },
   "outputs": [
    {
     "name": "stdout",
     "output_type": "stream",
     "text": [
      "{'a': [1, 2, 3, 4, 5], 's': [1, 4, 9, 16, 25]}\n",
      "   a   s\n",
      "a  1   1\n",
      "b  2   4\n",
      "c  3   9\n",
      "d  4  16\n",
      "e  5  25\n"
     ]
    }
   ],
   "source": [
    "# dictionary index specific\n",
    "d={\"a\":[1,2,3,4,5],\"s\":[1,4,9,16,25]}\n",
    "b=pd.DataFrame(d,index=['a','b','c','d','e'])\n",
    "print(d)\n",
    "print(b)"
   ]
  },
  {
   "cell_type": "code",
   "execution_count": 6,
   "id": "ea7c1bf7",
   "metadata": {
    "execution": {
     "iopub.execute_input": "2023-09-07T16:43:24.567859Z",
     "iopub.status.busy": "2023-09-07T16:43:24.567397Z",
     "iopub.status.idle": "2023-09-07T16:43:24.577233Z",
     "shell.execute_reply": "2023-09-07T16:43:24.575964Z"
    },
    "papermill": {
     "duration": 0.020764,
     "end_time": "2023-09-07T16:43:24.580446",
     "exception": false,
     "start_time": "2023-09-07T16:43:24.559682",
     "status": "completed"
    },
    "tags": []
   },
   "outputs": [
    {
     "name": "stdout",
     "output_type": "stream",
     "text": [
      "{'a': [1, 2, 3, 4, 5], 's': [1, 4, 9, 16, 25]}\n",
      "   a\n",
      "0  1\n",
      "1  2\n",
      "2  3\n",
      "3  4\n",
      "4  5\n",
      "3\n"
     ]
    }
   ],
   "source": [
    "# dictionary position specific\n",
    "d={\"a\":[1,2,3,4,5],\"s\":[1,4,9,16,25]}\n",
    "b=pd.DataFrame(d,columns=[\"a\"])\n",
    "print(d)\n",
    "print(b)\n",
    "print(b[\"a\"][2])"
   ]
  },
  {
   "cell_type": "code",
   "execution_count": 7,
   "id": "2255a073",
   "metadata": {
    "execution": {
     "iopub.execute_input": "2023-09-07T16:43:24.595395Z",
     "iopub.status.busy": "2023-09-07T16:43:24.595018Z",
     "iopub.status.idle": "2023-09-07T16:43:24.604762Z",
     "shell.execute_reply": "2023-09-07T16:43:24.603264Z"
    },
    "papermill": {
     "duration": 0.020278,
     "end_time": "2023-09-07T16:43:24.607432",
     "exception": false,
     "start_time": "2023-09-07T16:43:24.587154",
     "status": "completed"
    },
    "tags": []
   },
   "outputs": [
    {
     "name": "stdout",
     "output_type": "stream",
     "text": [
      "<class 'pandas.core.frame.DataFrame'>\n",
      "     0    1    2    3    4\n",
      "0    1    2    3    4    5\n",
      "1   11   22   33   44   55\n",
      "2  111  222  333  444  555\n"
     ]
    }
   ],
   "source": [
    "# list of list \n",
    "list = [[1,2,3,4,5],[11,22,33,44,55],[111,222,333,444,555]]\n",
    "x=pd.DataFrame(list)\n",
    "print(type(x))\n",
    "print(x)"
   ]
  },
  {
   "cell_type": "markdown",
   "id": "15a19dac",
   "metadata": {
    "papermill": {
     "duration": 0.006134,
     "end_time": "2023-09-07T16:43:24.620312",
     "exception": false,
     "start_time": "2023-09-07T16:43:24.614178",
     "status": "completed"
    },
    "tags": []
   },
   "source": [
    "* Creating a dataframe by two series"
   ]
  },
  {
   "cell_type": "code",
   "execution_count": 8,
   "id": "80581fca",
   "metadata": {
    "execution": {
     "iopub.execute_input": "2023-09-07T16:43:24.634841Z",
     "iopub.status.busy": "2023-09-07T16:43:24.634428Z",
     "iopub.status.idle": "2023-09-07T16:43:24.644337Z",
     "shell.execute_reply": "2023-09-07T16:43:24.643223Z"
    },
    "papermill": {
     "duration": 0.020128,
     "end_time": "2023-09-07T16:43:24.646912",
     "exception": false,
     "start_time": "2023-09-07T16:43:24.626784",
     "status": "completed"
    },
    "tags": []
   },
   "outputs": [
    {
     "name": "stdout",
     "output_type": "stream",
     "text": [
      "<class 'dict'>\n",
      "{'s': 0    1\n",
      "1    2\n",
      "2    3\n",
      "3    4\n",
      "dtype: int64, 'r': 0    4\n",
      "1    3\n",
      "2    2\n",
      "3    1\n",
      "dtype: int64}\n",
      "   s  r\n",
      "0  1  4\n",
      "1  2  3\n",
      "2  3  2\n",
      "3  4  1\n",
      "<class 'pandas.core.frame.DataFrame'>\n"
     ]
    }
   ],
   "source": [
    "sr={\"s\":pd.Series([1,2,3,4]),\"r\":pd.Series([4,3,2,1])}\n",
    "print(type(sr))\n",
    "print(sr)\n",
    "var=pd.DataFrame(sr)\n",
    "print(var)\n",
    "print(type(var))"
   ]
  }
 ],
 "kernelspec": {
  "display_name": "Python 3",
  "language": "python",
  "name": "python3"
 },
 "language_info": {
  "codemirror_mode": {
   "name": "ipython",
   "version": 3
  },
  "file_extension": ".py",
  "mimetype": "text/x-python",
  "name": "python",
  "nbconvert_exporter": "python",
  "pygments_lexer": "ipython3",
  "version": "3.6.4"
 },
 "metadata": {
  "kernelspec": {
   "display_name": "Python 3",
   "language": "python",
   "name": "python3"
  },
  "language_info": {
   "codemirror_mode": {
    "name": "ipython",
    "version": 3
   },
   "file_extension": ".py",
   "mimetype": "text/x-python",
   "name": "python",
   "nbconvert_exporter": "python",
   "pygments_lexer": "ipython3",
   "version": "3.11.4"
  },
  "papermill": {
   "default_parameters": {},
   "duration": 5.054499,
   "end_time": "2023-09-07T16:43:25.174376",
   "environment_variables": {},
   "exception": null,
   "input_path": "__notebook__.ipynb",
   "output_path": "__notebook__.ipynb",
   "parameters": {},
   "start_time": "2023-09-07T16:43:20.119877",
   "version": "2.4.0"
  }
 },
 "nbformat": 4,
 "nbformat_minor": 5
}
