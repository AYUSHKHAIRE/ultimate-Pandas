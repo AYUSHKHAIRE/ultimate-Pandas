{
 "cells": [
  {
   "cell_type": "markdown",
   "id": "a53ad94c",
   "metadata": {
    "papermill": {
     "duration": 0.005516,
     "end_time": "2023-09-07T16:21:43.763214",
     "exception": false,
     "start_time": "2023-09-07T16:21:43.757698",
     "status": "completed"
    },
    "tags": []
   },
   "source": [
    "# data structures"
   ]
  },
  {
   "cell_type": "code",
   "execution_count": 1,
   "id": "05ac349d",
   "metadata": {
    "_cell_guid": "b1076dfc-b9ad-4769-8c92-a6c4dae69d19",
    "_uuid": "8f2839f25d086af736a60e9eeb907d3b93b6e0e5",
    "execution": {
     "iopub.execute_input": "2023-09-07T16:21:43.774547Z",
     "iopub.status.busy": "2023-09-07T16:21:43.774118Z",
     "iopub.status.idle": "2023-09-07T16:21:44.161399Z",
     "shell.execute_reply": "2023-09-07T16:21:44.160177Z"
    },
    "papermill": {
     "duration": 0.39656,
     "end_time": "2023-09-07T16:21:44.164728",
     "exception": false,
     "start_time": "2023-09-07T16:21:43.768168",
     "status": "completed"
    },
    "tags": []
   },
   "outputs": [],
   "source": [
    "import pandas as pd"
   ]
  },
  {
   "cell_type": "markdown",
   "id": "50272538",
   "metadata": {
    "papermill": {
     "duration": 0.005902,
     "end_time": "2023-09-07T16:21:44.177837",
     "exception": false,
     "start_time": "2023-09-07T16:21:44.171935",
     "status": "completed"
    },
    "tags": []
   },
   "source": [
    "# Series"
   ]
  },
  {
   "cell_type": "code",
   "execution_count": 2,
   "id": "45636f08",
   "metadata": {
    "execution": {
     "iopub.execute_input": "2023-09-07T16:21:44.190580Z",
     "iopub.status.busy": "2023-09-07T16:21:44.189511Z",
     "iopub.status.idle": "2023-09-07T16:21:44.199234Z",
     "shell.execute_reply": "2023-09-07T16:21:44.198110Z"
    },
    "papermill": {
     "duration": 0.019017,
     "end_time": "2023-09-07T16:21:44.201801",
     "exception": false,
     "start_time": "2023-09-07T16:21:44.182784",
     "status": "completed"
    },
    "tags": []
   },
   "outputs": [
    {
     "name": "stdout",
     "output_type": "stream",
     "text": [
      "0    3\n",
      "1    4\n",
      "2    5\n",
      "3    6\n",
      "4    7\n",
      "5    8\n",
      "6    9\n",
      "dtype: int64\n",
      "<class 'pandas.core.series.Series'>\n"
     ]
    }
   ],
   "source": [
    "x=[3,4,5,6,7,8,9]\n",
    "a=pd.Series(x)\n",
    "print(a)\n",
    "print(type(a))"
   ]
  },
  {
   "cell_type": "code",
   "execution_count": 3,
   "id": "847436f4",
   "metadata": {
    "execution": {
     "iopub.execute_input": "2023-09-07T16:21:44.221048Z",
     "iopub.status.busy": "2023-09-07T16:21:44.220643Z",
     "iopub.status.idle": "2023-09-07T16:21:44.225948Z",
     "shell.execute_reply": "2023-09-07T16:21:44.224929Z"
    },
    "papermill": {
     "duration": 0.021714,
     "end_time": "2023-09-07T16:21:44.228805",
     "exception": false,
     "start_time": "2023-09-07T16:21:44.207091",
     "status": "completed"
    },
    "tags": []
   },
   "outputs": [
    {
     "name": "stdout",
     "output_type": "stream",
     "text": [
      "5\n"
     ]
    }
   ],
   "source": [
    "print(a[2])"
   ]
  },
  {
   "cell_type": "code",
   "execution_count": 4,
   "id": "4b7f69c4",
   "metadata": {
    "execution": {
     "iopub.execute_input": "2023-09-07T16:21:44.240878Z",
     "iopub.status.busy": "2023-09-07T16:21:44.239849Z",
     "iopub.status.idle": "2023-09-07T16:21:44.248965Z",
     "shell.execute_reply": "2023-09-07T16:21:44.247805Z"
    },
    "papermill": {
     "duration": 0.017209,
     "end_time": "2023-09-07T16:21:44.251039",
     "exception": false,
     "start_time": "2023-09-07T16:21:44.233830",
     "status": "completed"
    },
    "tags": []
   },
   "outputs": [
    {
     "name": "stdout",
     "output_type": "stream",
     "text": [
      "name    [python, java, c]\n",
      "por          [11, 12, 13]\n",
      "rank            [1, 2, 3]\n",
      "dtype: object\n"
     ]
    }
   ],
   "source": [
    "dic={\"name\":['python','java','c'],\"por\":[11,12,13],\"rank\":[1,2,3]}\n",
    "x=pd.Series(dic)\n",
    "print(x)"
   ]
  },
  {
   "cell_type": "code",
   "execution_count": 5,
   "id": "b02367da",
   "metadata": {
    "execution": {
     "iopub.execute_input": "2023-09-07T16:21:44.264828Z",
     "iopub.status.busy": "2023-09-07T16:21:44.264320Z",
     "iopub.status.idle": "2023-09-07T16:21:44.271060Z",
     "shell.execute_reply": "2023-09-07T16:21:44.270012Z"
    },
    "papermill": {
     "duration": 0.016046,
     "end_time": "2023-09-07T16:21:44.273056",
     "exception": false,
     "start_time": "2023-09-07T16:21:44.257010",
     "status": "completed"
    },
    "tags": []
   },
   "outputs": [
    {
     "name": "stdout",
     "output_type": "stream",
     "text": [
      "0    12\n",
      "dtype: int64\n",
      "<class 'pandas.core.series.Series'>\n"
     ]
    }
   ],
   "source": [
    "s=pd.Series(12)\n",
    "print(s)\n",
    "print(type(s))"
   ]
  },
  {
   "cell_type": "code",
   "execution_count": 6,
   "id": "71f9d3b2",
   "metadata": {
    "execution": {
     "iopub.execute_input": "2023-09-07T16:21:44.285958Z",
     "iopub.status.busy": "2023-09-07T16:21:44.285264Z",
     "iopub.status.idle": "2023-09-07T16:21:44.292160Z",
     "shell.execute_reply": "2023-09-07T16:21:44.291327Z"
    },
    "papermill": {
     "duration": 0.016028,
     "end_time": "2023-09-07T16:21:44.294304",
     "exception": false,
     "start_time": "2023-09-07T16:21:44.278276",
     "status": "completed"
    },
    "tags": []
   },
   "outputs": [
    {
     "name": "stdout",
     "output_type": "stream",
     "text": [
      "1    12\n",
      "2    12\n",
      "3    12\n",
      "4    12\n",
      "5    12\n",
      "6    12\n",
      "7    12\n",
      "dtype: int64\n",
      "<class 'pandas.core.series.Series'>\n"
     ]
    }
   ],
   "source": [
    "s=pd.Series(12,index=[1,2,3,4,5,6,7])\n",
    "print(s)\n",
    "print(type(s))"
   ]
  },
  {
   "cell_type": "code",
   "execution_count": 7,
   "id": "0507d430",
   "metadata": {
    "execution": {
     "iopub.execute_input": "2023-09-07T16:21:44.308079Z",
     "iopub.status.busy": "2023-09-07T16:21:44.307235Z",
     "iopub.status.idle": "2023-09-07T16:21:44.334259Z",
     "shell.execute_reply": "2023-09-07T16:21:44.333108Z"
    },
    "papermill": {
     "duration": 0.037064,
     "end_time": "2023-09-07T16:21:44.336886",
     "exception": false,
     "start_time": "2023-09-07T16:21:44.299822",
     "status": "completed"
    },
    "tags": []
   },
   "outputs": [
    {
     "name": "stdout",
     "output_type": "stream",
     "text": [
      "1    12\n",
      "2    12\n",
      "3    12\n",
      "4    12\n",
      "5    12\n",
      "6    12\n",
      "7    12\n",
      "dtype: int64\n",
      "<class 'pandas.core.series.Series'>\n",
      "1    12\n",
      "2    12\n",
      "3    12\n",
      "4    12\n",
      "dtype: int64\n",
      "<class 'pandas.core.series.Series'>\n",
      "1    24.0\n",
      "2    24.0\n",
      "3    24.0\n",
      "4    24.0\n",
      "5     NaN\n",
      "6     NaN\n",
      "7     NaN\n",
      "dtype: float64\n"
     ]
    }
   ],
   "source": [
    "s=pd.Series(12,index=[1,2,3,4,5,6,7])\n",
    "y=pd.Series(12,index=[1,2,3,4])\n",
    "print(s)\n",
    "print(type(s))\n",
    "print(y)\n",
    "print(type(y))\n",
    "print(s+y)"
   ]
  }
 ],
 "kernelspec": {
  "display_name": "Python 3",
  "language": "python",
  "name": "python3"
 },
 "language_info": {
  "codemirror_mode": {
   "name": "ipython",
   "version": 3
  },
  "file_extension": ".py",
  "mimetype": "text/x-python",
  "name": "python",
  "nbconvert_exporter": "python",
  "pygments_lexer": "ipython3",
  "version": "3.6.4"
 },
 "metadata": {
  "kernelspec": {
   "display_name": "Python 3",
   "language": "python",
   "name": "python3"
  },
  "language_info": {
   "codemirror_mode": {
    "name": "ipython",
    "version": 3
   },
   "file_extension": ".py",
   "mimetype": "text/x-python",
   "name": "python",
   "nbconvert_exporter": "python",
   "pygments_lexer": "ipython3",
   "version": "3.11.4"
  },
  "papermill": {
   "default_parameters": {},
   "duration": 4.181535,
   "end_time": "2023-09-07T16:21:44.767143",
   "environment_variables": {},
   "exception": null,
   "input_path": "__notebook__.ipynb",
   "output_path": "__notebook__.ipynb",
   "parameters": {},
   "start_time": "2023-09-07T16:21:40.585608",
   "version": "2.4.0"
  }
 },
 "nbformat": 4,
 "nbformat_minor": 5
}
