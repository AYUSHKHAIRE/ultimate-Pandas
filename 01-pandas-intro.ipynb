{
 "cells": [
  {
   "cell_type": "code",
   "execution_count": 1,
   "id": "8b164588",
   "metadata": {
    "_cell_guid": "b1076dfc-b9ad-4769-8c92-a6c4dae69d19",
    "_uuid": "8f2839f25d086af736a60e9eeb907d3b93b6e0e5",
    "execution": {
     "iopub.execute_input": "2023-09-07T13:23:14.516608Z",
     "iopub.status.busy": "2023-09-07T13:23:14.515613Z",
     "iopub.status.idle": "2023-09-07T13:23:15.362201Z",
     "shell.execute_reply": "2023-09-07T13:23:15.360989Z"
    },
    "papermill": {
     "duration": 0.856071,
     "end_time": "2023-09-07T13:23:15.365113",
     "exception": false,
     "start_time": "2023-09-07T13:23:14.509042",
     "status": "completed"
    },
    "tags": []
   },
   "outputs": [],
   "source": [
    "import pandas as pd"
   ]
  },
  {
   "cell_type": "markdown",
   "id": "0c62d579",
   "metadata": {
    "papermill": {
     "duration": 0.003374,
     "end_time": "2023-09-07T13:23:15.372619",
     "exception": false,
     "start_time": "2023-09-07T13:23:15.369245",
     "status": "completed"
    },
    "tags": []
   },
   "source": [
    "# Data analysis"
   ]
  },
  {
   "cell_type": "markdown",
   "id": "10492a84",
   "metadata": {
    "papermill": {
     "duration": 0.003306,
     "end_time": "2023-09-07T13:23:15.379504",
     "exception": false,
     "start_time": "2023-09-07T13:23:15.376198",
     "status": "completed"
    },
    "tags": []
   },
   "source": [
    "# series : 1-D data\n",
    "\n",
    "# DataFreames : 2-D \n",
    "\n",
    "# panel : 3-D "
   ]
  }
 ],
 "kernelspec": {
  "display_name": "Python 3",
  "language": "python",
  "name": "python3"
 },
 "language_info": {
  "codemirror_mode": {
   "name": "ipython",
   "version": 3
  },
  "file_extension": ".py",
  "mimetype": "text/x-python",
  "name": "python",
  "nbconvert_exporter": "python",
  "pygments_lexer": "ipython3",
  "version": "3.6.4"
 },
 "metadata": {
  "kernelspec": {
   "display_name": "Python 3",
   "language": "python",
   "name": "python3"
  },
  "language_info": {
   "codemirror_mode": {
    "name": "ipython",
    "version": 3
   },
   "file_extension": ".py",
   "mimetype": "text/x-python",
   "name": "python",
   "nbconvert_exporter": "python",
   "pygments_lexer": "ipython3",
   "version": "3.11.4"
  },
  "papermill": {
   "default_parameters": {},
   "duration": 5.291732,
   "end_time": "2023-09-07T13:23:15.904564",
   "environment_variables": {},
   "exception": null,
   "input_path": "__notebook__.ipynb",
   "output_path": "__notebook__.ipynb",
   "parameters": {},
   "start_time": "2023-09-07T13:23:10.612832",
   "version": "2.4.0"
  }
 },
 "nbformat": 4,
 "nbformat_minor": 5
}
